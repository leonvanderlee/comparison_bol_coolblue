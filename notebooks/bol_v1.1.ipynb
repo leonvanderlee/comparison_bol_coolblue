{
 "metadata": {
  "language_info": {
   "codemirror_mode": {
    "name": "ipython",
    "version": 3
   },
   "file_extension": ".py",
   "mimetype": "text/x-python",
   "name": "python",
   "nbconvert_exporter": "python",
   "pygments_lexer": "ipython3",
   "version": "3.8.3-final"
  },
  "orig_nbformat": 2,
  "kernelspec": {
   "name": "python3",
   "display_name": "Python 3"
  }
 },
 "nbformat": 4,
 "nbformat_minor": 2,
 "cells": [
  {
   "cell_type": "code",
   "execution_count": 1,
   "metadata": {},
   "outputs": [],
   "source": [
    "import pandas as pd\n",
    "import numpy as np\n",
    "import requests\n",
    "from bs4 import BeautifulSoup"
   ]
  },
  {
   "cell_type": "code",
   "execution_count": 2,
   "metadata": {},
   "outputs": [],
   "source": [
    "producten_alle_paginas = []\n",
    "\n",
    "for i in range(1, 1000):\n",
    "    response = requests.get(f'https://www.bol.com/nl/s/?page={i}&searchtext=laptops&view=list')\n",
    "    content = response.content\n",
    "    parser = BeautifulSoup(content, 'html.parser')\n",
    "    body = parser.body\n",
    "    producten = body.find_all(class_='product-item--row js_item_root')\n",
    "    producten_alle_paginas.extend(producten)"
   ]
  },
  {
   "cell_type": "code",
   "execution_count": 3,
   "metadata": {},
   "outputs": [],
   "source": [
    "# prijs = float(producten_alle_paginas[1].meta.get('content'))\n",
    "# productnaam = producten_alle_paginas[1].find(class_='product-title--inline').a.getText()\n",
    "# print(prijs)\n",
    "# print(productnaam)"
   ]
  },
  {
   "cell_type": "code",
   "execution_count": 4,
   "metadata": {},
   "outputs": [
    {
     "output_type": "stream",
     "name": "stdout",
     "text": [
      "[['Lenovo Ideapad S330 Chromebook 81JW0009MH - Chromebook - 14 Inch', None], ['ASUS VivoBook 15 S512JA-BQ018T - Laptop - 15.6 Inch', 599.0], ['ASUS Chromebook C523NA-A20209 - Chromebook - 15.6 inch', 289.0]]\n"
     ]
    }
   ],
   "source": [
    "productlijst = []\n",
    "\n",
    "for item in producten_alle_paginas:\n",
    "    if item.find(class_='product-prices').getText() == '\\nNiet leverbaar\\n':\n",
    "        prijs = None\n",
    "    else:\n",
    "        prijs = float(item.meta['content'])\n",
    "    product = item.find(class_='product-title--inline').a.getText()\n",
    "    productlijst.append([product, prijs])\n",
    "    \n",
    "print(productlijst[:3])"
   ]
  },
  {
   "cell_type": "code",
   "execution_count": 5,
   "metadata": {},
   "outputs": [
    {
     "output_type": "execute_result",
     "data": {
      "text/plain": [
       "                                                 Product   Prijs\n",
       "0      Lenovo Ideapad S330 Chromebook 81JW0009MH - Ch...     NaN\n",
       "1      ASUS VivoBook 15 S512JA-BQ018T - Laptop - 15.6...   599.0\n",
       "2      ASUS Chromebook C523NA-A20209 - Chromebook - 1...   289.0\n",
       "3      Lenovo Ideapad L340-15IRH 81LK0150MH - Gaming ...   729.0\n",
       "4      ASUS Chromebook C523NA-EJ0055 - Chromebook - 1...   259.0\n",
       "...                                                  ...     ...\n",
       "23971  Apple Macbook Pro (2020) MXK32 - 13.3 inch - I...  1388.0\n",
       "23972        HP Laptop 15s-fq1710nd - Laptop - 15.6 Inch   629.0\n",
       "23973  Asus Chromebook C423NA-EB0350 - Chromebook - 1...   239.0\n",
       "23974  ASUS ROG G512LW-HN118T - Gaming Laptop - 15.6 ...  1499.0\n",
       "23975  ASUS TUF Gaming FX505DT-BQ613T - Gaming Laptop...   799.0\n",
       "\n",
       "[23976 rows x 2 columns]"
      ],
      "text/html": "<div>\n<style scoped>\n    .dataframe tbody tr th:only-of-type {\n        vertical-align: middle;\n    }\n\n    .dataframe tbody tr th {\n        vertical-align: top;\n    }\n\n    .dataframe thead th {\n        text-align: right;\n    }\n</style>\n<table border=\"1\" class=\"dataframe\">\n  <thead>\n    <tr style=\"text-align: right;\">\n      <th></th>\n      <th>Product</th>\n      <th>Prijs</th>\n    </tr>\n  </thead>\n  <tbody>\n    <tr>\n      <th>0</th>\n      <td>Lenovo Ideapad S330 Chromebook 81JW0009MH - Ch...</td>\n      <td>NaN</td>\n    </tr>\n    <tr>\n      <th>1</th>\n      <td>ASUS VivoBook 15 S512JA-BQ018T - Laptop - 15.6...</td>\n      <td>599.0</td>\n    </tr>\n    <tr>\n      <th>2</th>\n      <td>ASUS Chromebook C523NA-A20209 - Chromebook - 1...</td>\n      <td>289.0</td>\n    </tr>\n    <tr>\n      <th>3</th>\n      <td>Lenovo Ideapad L340-15IRH 81LK0150MH - Gaming ...</td>\n      <td>729.0</td>\n    </tr>\n    <tr>\n      <th>4</th>\n      <td>ASUS Chromebook C523NA-EJ0055 - Chromebook - 1...</td>\n      <td>259.0</td>\n    </tr>\n    <tr>\n      <th>...</th>\n      <td>...</td>\n      <td>...</td>\n    </tr>\n    <tr>\n      <th>23971</th>\n      <td>Apple Macbook Pro (2020) MXK32 - 13.3 inch - I...</td>\n      <td>1388.0</td>\n    </tr>\n    <tr>\n      <th>23972</th>\n      <td>HP Laptop 15s-fq1710nd - Laptop - 15.6 Inch</td>\n      <td>629.0</td>\n    </tr>\n    <tr>\n      <th>23973</th>\n      <td>Asus Chromebook C423NA-EB0350 - Chromebook - 1...</td>\n      <td>239.0</td>\n    </tr>\n    <tr>\n      <th>23974</th>\n      <td>ASUS ROG G512LW-HN118T - Gaming Laptop - 15.6 ...</td>\n      <td>1499.0</td>\n    </tr>\n    <tr>\n      <th>23975</th>\n      <td>ASUS TUF Gaming FX505DT-BQ613T - Gaming Laptop...</td>\n      <td>799.0</td>\n    </tr>\n  </tbody>\n</table>\n<p>23976 rows × 2 columns</p>\n</div>"
     },
     "metadata": {},
     "execution_count": 5
    }
   ],
   "source": [
    "df = pd.DataFrame(productlijst, columns=['Product', 'Prijs'])\n",
    "\n",
    "df"
   ]
  }
 ]
}