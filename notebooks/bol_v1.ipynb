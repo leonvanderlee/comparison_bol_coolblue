{
 "metadata": {
  "language_info": {
   "codemirror_mode": {
    "name": "ipython",
    "version": 3
   },
   "file_extension": ".py",
   "mimetype": "text/x-python",
   "name": "python",
   "nbconvert_exporter": "python",
   "pygments_lexer": "ipython3",
   "version": "3.8.3-final"
  },
  "orig_nbformat": 2,
  "kernelspec": {
   "name": "python3",
   "display_name": "Python 3"
  }
 },
 "nbformat": 4,
 "nbformat_minor": 2,
 "cells": [
  {
   "cell_type": "code",
   "execution_count": 1,
   "metadata": {},
   "outputs": [],
   "source": [
    "import pandas as pd\n",
    "import numpy as np\n",
    "import requests\n",
    "from bs4 import BeautifulSoup"
   ]
  },
  {
   "cell_type": "code",
   "execution_count": 2,
   "metadata": {},
   "outputs": [],
   "source": [
    "producten_alle_paginas = []\n",
    "\n",
    "for i in range(1, 1000):\n",
    "    response = requests.get(f'https://www.bol.com/nl/s/?page={i}&searchtext=hand+sanitizer&view=list')\n",
    "    content = response.content\n",
    "    parser = BeautifulSoup(content, 'html.parser')\n",
    "    body = parser.body\n",
    "    producten = body.find_all(class_='product-item--row js_item_root')\n",
    "    producten_alle_paginas.extend(producten)"
   ]
  },
  {
   "cell_type": "code",
   "execution_count": 3,
   "metadata": {},
   "outputs": [],
   "source": [
    "# prijs = float(producten_alle_paginas[1].meta.get('content'))\n",
    "# productnaam = producten_alle_paginas[1].find(class_='product-title--inline').a.getText()\n",
    "# print(prijs)\n",
    "# print(productnaam)"
   ]
  },
  {
   "cell_type": "code",
   "execution_count": 4,
   "metadata": {},
   "outputs": [
    {
     "output_type": "stream",
     "name": "stdout",
     "text": [
      "[['Reinigende Handgel 250 ml - Hand Sanitizer - Glycerine - Geparfumeerd - handgel', 4.88], ['Hand sanitizer- Turtle Sillicone Holder', 8.95], ['Nieuw Model: Desinfectie Armband | Dispenser Polsband | Hand Sanitizer | Handdesinfectie | Antibacterieel | Hygiëne | BPA Vrij | Wit', 7.12]]\n"
     ]
    }
   ],
   "source": [
    "productlijst = []\n",
    "\n",
    "for item in producten_alle_paginas:\n",
    "    if item.find(class_='product-prices').getText() == '\\nNiet leverbaar\\n':\n",
    "        prijs = None\n",
    "    else:\n",
    "        prijs = float(item.meta['content'])\n",
    "    product = item.find(class_='product-title--inline').a.getText()\n",
    "    productlijst.append([product, prijs])\n",
    "    \n",
    "print(productlijst[:3])"
   ]
  },
  {
   "cell_type": "code",
   "execution_count": 5,
   "metadata": {},
   "outputs": [
    {
     "output_type": "execute_result",
     "data": {
      "text/plain": [
       "                                               Product  Prijs\n",
       "0    Reinigende Handgel 250 ml - Hand Sanitizer - G...   4.88\n",
       "1              Hand sanitizer- Turtle Sillicone Holder   8.95\n",
       "2    Nieuw Model: Desinfectie Armband | Dispenser P...   7.12\n",
       "3    Margarita Hand Sanitizer 250ml Antibacterial P...  11.10\n",
       "4    Simple Sensor Zeepdispenser RVS | Soap and Han...  39.59\n",
       "..                                                 ...    ...\n",
       "338                                   Combat the Germs  16.99\n",
       "339                      The Natural Cleaning Handbook  13.86\n",
       "340             4 in 1 Do It Yourself Protective Items  12.99\n",
       "341                                   Combat the Germs  26.99\n",
       "342                          Natural Cleaning Handbook  21.00\n",
       "\n",
       "[343 rows x 2 columns]"
      ],
      "text/html": "<div>\n<style scoped>\n    .dataframe tbody tr th:only-of-type {\n        vertical-align: middle;\n    }\n\n    .dataframe tbody tr th {\n        vertical-align: top;\n    }\n\n    .dataframe thead th {\n        text-align: right;\n    }\n</style>\n<table border=\"1\" class=\"dataframe\">\n  <thead>\n    <tr style=\"text-align: right;\">\n      <th></th>\n      <th>Product</th>\n      <th>Prijs</th>\n    </tr>\n  </thead>\n  <tbody>\n    <tr>\n      <th>0</th>\n      <td>Reinigende Handgel 250 ml - Hand Sanitizer - G...</td>\n      <td>4.88</td>\n    </tr>\n    <tr>\n      <th>1</th>\n      <td>Hand sanitizer- Turtle Sillicone Holder</td>\n      <td>8.95</td>\n    </tr>\n    <tr>\n      <th>2</th>\n      <td>Nieuw Model: Desinfectie Armband | Dispenser P...</td>\n      <td>7.12</td>\n    </tr>\n    <tr>\n      <th>3</th>\n      <td>Margarita Hand Sanitizer 250ml Antibacterial P...</td>\n      <td>11.10</td>\n    </tr>\n    <tr>\n      <th>4</th>\n      <td>Simple Sensor Zeepdispenser RVS | Soap and Han...</td>\n      <td>39.59</td>\n    </tr>\n    <tr>\n      <th>...</th>\n      <td>...</td>\n      <td>...</td>\n    </tr>\n    <tr>\n      <th>338</th>\n      <td>Combat the Germs</td>\n      <td>16.99</td>\n    </tr>\n    <tr>\n      <th>339</th>\n      <td>The Natural Cleaning Handbook</td>\n      <td>13.86</td>\n    </tr>\n    <tr>\n      <th>340</th>\n      <td>4 in 1 Do It Yourself Protective Items</td>\n      <td>12.99</td>\n    </tr>\n    <tr>\n      <th>341</th>\n      <td>Combat the Germs</td>\n      <td>26.99</td>\n    </tr>\n    <tr>\n      <th>342</th>\n      <td>Natural Cleaning Handbook</td>\n      <td>21.00</td>\n    </tr>\n  </tbody>\n</table>\n<p>343 rows × 2 columns</p>\n</div>"
     },
     "metadata": {},
     "execution_count": 5
    }
   ],
   "source": [
    "df = pd.DataFrame(productlijst, columns=['Product', 'Prijs'])\n",
    "\n",
    "df"
   ]
  }
 ]
}