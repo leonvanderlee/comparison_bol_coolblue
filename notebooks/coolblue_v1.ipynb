{
 "metadata": {
  "language_info": {
   "codemirror_mode": {
    "name": "ipython",
    "version": 3
   },
   "file_extension": ".py",
   "mimetype": "text/x-python",
   "name": "python",
   "nbconvert_exporter": "python",
   "pygments_lexer": "ipython3",
   "version": "3.7.6-final"
  },
  "orig_nbformat": 2,
  "kernelspec": {
   "name": "python3",
   "display_name": "Python 3"
  }
 },
 "nbformat": 4,
 "nbformat_minor": 2,
 "cells": [
  {
   "cell_type": "code",
   "execution_count": 31,
   "metadata": {},
   "outputs": [],
   "source": [
    "import pandas as pd\n",
    "import numpy as np \n",
    "import requests \n",
    "from bs4 import BeautifulSoup\n",
    "import time\n"
   ]
  },
  {
   "cell_type": "code",
   "execution_count": 58,
   "metadata": {},
   "outputs": [],
   "source": [
    "#url = \"https://coolblue.be/nl/\"\n",
    "#test_url = \"https://www.coolblue.be/nl/laptops?pagina=1\"\n",
    "columns = ['Product_Name', 'Price', 'Review', 'Number_Of_Reviews']\n",
    "columns2 = ['Product_Name', 'Price', 'Review', 'Number_Of_Reviews', 'Category']"
   ]
  },
  {
   "cell_type": "code",
   "execution_count": 4,
   "metadata": {},
   "outputs": [],
   "source": [
    "category_laptops = [\"laptops\", \"desktops\", \"monitoren\", \"schoudertassen\",\"laptopstandaarden\", \"public-displays\", \"laptops/tweedekans\", \"tablets\" ]\n",
    "last_extension = \"?pagina=1\"\n",
    "\n",
    "#Nota te nemen dat het nummer wel nog veranderd moet worden! "
   ]
  },
  {
   "cell_type": "code",
   "execution_count": 2,
   "metadata": {},
   "outputs": [],
   "source": [
    "# Assortiment v/d hoofdcategoriën!! \n",
    "url2 = \"https://www.coolblue.be/nl/ons-assortiment\"\n",
    "html_cat = requests.get(url2).content\n",
    "soup_cat = BeautifulSoup(html_cat, 'html.parser')\n",
    "cats = soup_cat.find_all('h2')\n",
    "cats2 = [categorie.getText().strip(\"\\n\").strip() for categorie in cats]\n",
    "subcats = soup_cat.find_all(class_='category-navigation__item')\n",
    "subcats = [subcategorie.getText().strip(\"\\n\").strip() for subcategorie in subcats]\n"
   ]
  },
  {
   "cell_type": "code",
   "execution_count": 3,
   "metadata": {},
   "outputs": [],
   "source": [
    "def url (category, number):\n",
    "    urls = []\n",
    "    for i in range(1, number+1): \n",
    "        new_url = \"https://www.coolblue.be/nl/\"+category+\"?pagina=\"+str(i)\n",
    "        urls.append(new_url)\n",
    "    return urls\n"
   ]
  },
  {
   "cell_type": "code",
   "execution_count": 4,
   "metadata": {},
   "outputs": [],
   "source": [
    "def list_articles (soups): \n",
    "    name_article = [element.text for element in soups.findAll(\"div\", {\"class\": \"grid-section-xs--gap-2 js-product-item-title-wrapper\"})]\n",
    "    article_rows = [row.strip(\"\\n\").replace(\"\\n\", \"\") for row in name_article]\n",
    "    return article_rows \n"
   ]
  },
  {
   "cell_type": "code",
   "execution_count": 6,
   "metadata": {},
   "outputs": [],
   "source": [
    "def list_prices (soups): \n",
    "    price = [element.text for element in soups.findAll(\"div\", {\"class\": \"grid-section-xs--gap-3 flex-container--justify-content--space-between\"})]\n",
    "    price_row = [row.strip(\"\\n\").replace(\"\\n\", \"\") for row in price]\n",
    "    price_test = [row.split(\"-\") for row in price_row]\n",
    "    price_test2 = [row[0]+\"00\" for row in price_test]\n",
    "    return price_test2"
   ]
  },
  {
   "cell_type": "code",
   "execution_count": 36,
   "metadata": {},
   "outputs": [],
   "source": [
    "def list_stars (soups): \n",
    "    rating = [element.text for element in soups.findAll(\"div\", {\"class\": \"review-rating\"})]\n",
    "    rating_row = [row.strip(\"\\n\").replace(\"\\n\", \"\") for row in rating]\n",
    "    rating_row2 = [row.strip(\" \").strip(\"reviews\") for row in rating_row]\n",
    "    rating_row3 = [row.split(\"/\") for row in rating_row2]\n",
    "    rating_row4 = [row[0] for row in rating_row3]\n",
    "    return rating_row4\n"
   ]
  },
  {
   "cell_type": "code",
   "execution_count": 37,
   "metadata": {},
   "outputs": [],
   "source": [
    "def list_number_ratings (soups): \n",
    "    rating = [element.text for element in soups.findAll(\"div\", {\"class\": \"review-rating\"})]\n",
    "    rating_row = [row.strip(\"\\n\").replace(\"\\n\", \"\") for row in rating]\n",
    "    rating_row2 = [row.strip(\" \").strip(\"reviews\") for row in rating_row]\n",
    "    rating_row3 = [row.split(\"/\") for row in rating_row2]\n",
    "    review = [review[-1][-3:] for review in rating_row3]\n",
    "    return review"
   ]
  },
  {
   "cell_type": "code",
   "execution_count": 38,
   "metadata": {},
   "outputs": [],
   "source": [
    "def coolblue_v2 (): \n",
    "    cat = input(\"Which category you want to scrape? \")\n",
    "    number_pages = input(\"How many pages you want to scrape? \")\n",
    "    int_number_pages = int(number_pages)\n",
    "    webpages = url(cat, int_number_pages)\n",
    "    products2 = []\n",
    "    for webpage in webpages: \n",
    "        html = requests.get(webpage).content\n",
    "        soup = BeautifulSoup(html, 'html.parser')\n",
    "        articles = list_articles(soup)\n",
    "        prices = list_prices(soup)\n",
    "        stars = list_stars(soup)\n",
    "        num_ratings = list_number_ratings (soup)\n",
    "        for i in range(0, len(articles)): \n",
    "            pro = [articles[i], prices[i], stars[i], num_ratings[i]]\n",
    "            products2.append(pro)\n",
    "    return products2\n",
    "\n",
    "\n",
    "#monitoren\n",
    "#schoudertassen"
   ]
  },
  {
   "cell_type": "code",
   "execution_count": 24,
   "metadata": {},
   "outputs": [],
   "source": [
    "data = coolblue_v2()\n",
    "\n",
    "df = pd.DataFrame(data, columns=colnames) \n"
   ]
  },
  {
   "cell_type": "code",
   "execution_count": 56,
   "metadata": {},
   "outputs": [],
   "source": [
    "def coolblue_v3 (): \n",
    "    producten = []\n",
    "    for sub in subcats: \n",
    "        urllen = url(sub, 7)\n",
    "        for weburl in urllen: \n",
    "            html = requests.get(weburl).content\n",
    "            soup = BeautifulSoup(html, 'html.parser')\n",
    "            articles = list_articles(soup)\n",
    "            prices = list_prices(soup)\n",
    "            stars = list_stars(soup)\n",
    "            num_ratings = list_number_ratings (soup)\n",
    "            for i in range(0, len(articles)): \n",
    "                try: \n",
    "                    pro = [articles[i], prices[i], stars[i], num_ratings[i], sub]\n",
    "                    producten.append(pro)\n",
    "                except: \n",
    "                    continue\n",
    "        time.sleep(2)\n",
    "    return producten\n",
    "\n",
    "    \n",
    "\n",
    "\n"
   ]
  },
  {
   "cell_type": "code",
   "execution_count": 57,
   "metadata": {},
   "outputs": [],
   "source": [
    "bert_test_v4 = coolblue_v3()"
   ]
  },
  {
   "cell_type": "code",
   "execution_count": 47,
   "metadata": {
    "tags": []
   },
   "outputs": [],
   "source": [
    "bert_test_v3 = coolblue_v3()"
   ]
  },
  {
   "cell_type": "code",
   "execution_count": 51,
   "metadata": {},
   "outputs": [],
   "source": [
    "data_v3 = bert_test_v3\n",
    "colnames = columns\n",
    "df_v3 = pd.DataFrame(data_v3, columns=colnames)"
   ]
  },
  {
   "cell_type": "code",
   "execution_count": 59,
   "metadata": {},
   "outputs": [],
   "source": [
    "data_v4 = bert_test_v4\n",
    "colnames2 = columns2\n",
    "df_v4 = pd.DataFrame(data_v4, columns=colnames2)"
   ]
  },
  {
   "cell_type": "code",
   "execution_count": 61,
   "metadata": {},
   "outputs": [
    {
     "output_type": "execute_result",
     "data": {
      "text/plain": [
       "                                         Product_Name     Price Review  \\\n",
       "0                      HP Pavilion 15-cw1039nb Azerty    749,00   4.5    \n",
       "1    Apple MacBook Air (2020) 8/256GB 1,1GHz Space...  1.249,00   4.5    \n",
       "2                   Acer Aspire 3 A315-56-55ZJ Azerty    629,00   4.5    \n",
       "3             Lenovo Thinkbook 15 - 20SM003FMB Azerty  1.099,00   4.5    \n",
       "4                   Acer Aspire 3 A315-56-51Z4 Azerty    599,00   4.5    \n",
       "5                  Acer Aspire 5 A515-55G-52BM Azerty    719,00   4.5    \n",
       "6                   Acer Aspire 3 A315-23-R3WY Azerty    599,00   4.5    \n",
       "7           Acer Chromebook 314 CB314-1HT-C1MK Azerty    399,00     5    \n",
       "8                               HP 15-dw1040nb Azerty    679,00   4.5    \n",
       "9                   Acer Nitro 5 AN517-52-79HM Azerty  1.459,00     5    \n",
       "10                  Acer Aspire 5 A514-53-556R Azerty    649,00   4.5    \n",
       "11                     HP Pavilion 15-cw1017nb Azerty    649,00   4.5    \n",
       "12         Lenovo IdeaPad 5 15IIL05 81YK00F3MB Azerty    899,00   4.5    \n",
       "13                     HP Pavilion 15-cs3061nb Azerty  1.229,00   4.5    \n",
       "14                              HP 15-dw1043nb Azerty    959,00     5    \n",
       "15                HP Pavilion x360 14-dh1009nb Azerty  1.149,00   4.5    \n",
       "16          Asus Vivobook 15 P1504JA-EJ573T-BE Azerty    729,00   4.5    \n",
       "17                    HP ENVY x360 15-ed0013nb Azerty  1.249,00   4.5    \n",
       "\n",
       "   Number_Of_Reviews Category  \n",
       "0                89   Laptops  \n",
       "1                89   Laptops  \n",
       "2                43   Laptops  \n",
       "3                 1   Laptops  \n",
       "4                43   Laptops  \n",
       "5                34   Laptops  \n",
       "6                43   Laptops  \n",
       "7                 2   Laptops  \n",
       "8                 4   Laptops  \n",
       "9                 7   Laptops  \n",
       "10               34   Laptops  \n",
       "11               89   Laptops  \n",
       "12               21   Laptops  \n",
       "13               21   Laptops  \n",
       "14                3   Laptops  \n",
       "15                8   Laptops  \n",
       "16                6   Laptops  \n",
       "17               10   Laptops  "
      ],
      "text/html": "<div>\n<style scoped>\n    .dataframe tbody tr th:only-of-type {\n        vertical-align: middle;\n    }\n\n    .dataframe tbody tr th {\n        vertical-align: top;\n    }\n\n    .dataframe thead th {\n        text-align: right;\n    }\n</style>\n<table border=\"1\" class=\"dataframe\">\n  <thead>\n    <tr style=\"text-align: right;\">\n      <th></th>\n      <th>Product_Name</th>\n      <th>Price</th>\n      <th>Review</th>\n      <th>Number_Of_Reviews</th>\n      <th>Category</th>\n    </tr>\n  </thead>\n  <tbody>\n    <tr>\n      <th>0</th>\n      <td>HP Pavilion 15-cw1039nb Azerty</td>\n      <td>749,00</td>\n      <td>4.5</td>\n      <td>89</td>\n      <td>Laptops</td>\n    </tr>\n    <tr>\n      <th>1</th>\n      <td>Apple MacBook Air (2020) 8/256GB 1,1GHz Space...</td>\n      <td>1.249,00</td>\n      <td>4.5</td>\n      <td>89</td>\n      <td>Laptops</td>\n    </tr>\n    <tr>\n      <th>2</th>\n      <td>Acer Aspire 3 A315-56-55ZJ Azerty</td>\n      <td>629,00</td>\n      <td>4.5</td>\n      <td>43</td>\n      <td>Laptops</td>\n    </tr>\n    <tr>\n      <th>3</th>\n      <td>Lenovo Thinkbook 15 - 20SM003FMB Azerty</td>\n      <td>1.099,00</td>\n      <td>4.5</td>\n      <td>1</td>\n      <td>Laptops</td>\n    </tr>\n    <tr>\n      <th>4</th>\n      <td>Acer Aspire 3 A315-56-51Z4 Azerty</td>\n      <td>599,00</td>\n      <td>4.5</td>\n      <td>43</td>\n      <td>Laptops</td>\n    </tr>\n    <tr>\n      <th>5</th>\n      <td>Acer Aspire 5 A515-55G-52BM Azerty</td>\n      <td>719,00</td>\n      <td>4.5</td>\n      <td>34</td>\n      <td>Laptops</td>\n    </tr>\n    <tr>\n      <th>6</th>\n      <td>Acer Aspire 3 A315-23-R3WY Azerty</td>\n      <td>599,00</td>\n      <td>4.5</td>\n      <td>43</td>\n      <td>Laptops</td>\n    </tr>\n    <tr>\n      <th>7</th>\n      <td>Acer Chromebook 314 CB314-1HT-C1MK Azerty</td>\n      <td>399,00</td>\n      <td>5</td>\n      <td>2</td>\n      <td>Laptops</td>\n    </tr>\n    <tr>\n      <th>8</th>\n      <td>HP 15-dw1040nb Azerty</td>\n      <td>679,00</td>\n      <td>4.5</td>\n      <td>4</td>\n      <td>Laptops</td>\n    </tr>\n    <tr>\n      <th>9</th>\n      <td>Acer Nitro 5 AN517-52-79HM Azerty</td>\n      <td>1.459,00</td>\n      <td>5</td>\n      <td>7</td>\n      <td>Laptops</td>\n    </tr>\n    <tr>\n      <th>10</th>\n      <td>Acer Aspire 5 A514-53-556R Azerty</td>\n      <td>649,00</td>\n      <td>4.5</td>\n      <td>34</td>\n      <td>Laptops</td>\n    </tr>\n    <tr>\n      <th>11</th>\n      <td>HP Pavilion 15-cw1017nb Azerty</td>\n      <td>649,00</td>\n      <td>4.5</td>\n      <td>89</td>\n      <td>Laptops</td>\n    </tr>\n    <tr>\n      <th>12</th>\n      <td>Lenovo IdeaPad 5 15IIL05 81YK00F3MB Azerty</td>\n      <td>899,00</td>\n      <td>4.5</td>\n      <td>21</td>\n      <td>Laptops</td>\n    </tr>\n    <tr>\n      <th>13</th>\n      <td>HP Pavilion 15-cs3061nb Azerty</td>\n      <td>1.229,00</td>\n      <td>4.5</td>\n      <td>21</td>\n      <td>Laptops</td>\n    </tr>\n    <tr>\n      <th>14</th>\n      <td>HP 15-dw1043nb Azerty</td>\n      <td>959,00</td>\n      <td>5</td>\n      <td>3</td>\n      <td>Laptops</td>\n    </tr>\n    <tr>\n      <th>15</th>\n      <td>HP Pavilion x360 14-dh1009nb Azerty</td>\n      <td>1.149,00</td>\n      <td>4.5</td>\n      <td>8</td>\n      <td>Laptops</td>\n    </tr>\n    <tr>\n      <th>16</th>\n      <td>Asus Vivobook 15 P1504JA-EJ573T-BE Azerty</td>\n      <td>729,00</td>\n      <td>4.5</td>\n      <td>6</td>\n      <td>Laptops</td>\n    </tr>\n    <tr>\n      <th>17</th>\n      <td>HP ENVY x360 15-ed0013nb Azerty</td>\n      <td>1.249,00</td>\n      <td>4.5</td>\n      <td>10</td>\n      <td>Laptops</td>\n    </tr>\n  </tbody>\n</table>\n</div>"
     },
     "metadata": {},
     "execution_count": 61
    }
   ],
   "source": [
    "df_v4.head(18)"
   ]
  },
  {
   "cell_type": "code",
   "execution_count": 69,
   "metadata": {},
   "outputs": [
    {
     "output_type": "execute_result",
     "data": {
      "text/plain": [
       "                                            Product_Name   Price Review  \\\n",
       "4186    Bosch SMV68PX01N / Inbouw / Volledig geintegr...  859,00   4.5    \n",
       "4187    Siemens SN636X01GE / Inbouw / Volledig geinte...  489,00   4.5    \n",
       "4188    Bosch SMU68TS06E / Inbouw / Onderbouw / Nisho...  857,00     5    \n",
       "4189    AEG FSE63617P/ Inbouw / Volledig geintegreerd...  699,00   4.5    \n",
       "4190    AEG FSB53907Z / Inbouw / Volledig geintegreer...  679,00   4.5    \n",
       "...                                                  ...     ...    ...   \n",
       "13709   Siemens SX658X03TE / Inbouw / Volledig geinte...  899,00   4.5    \n",
       "13710   AEG FSS62807P ComfortLift / Inbouw / Volledig...  979,00     0    \n",
       "13711   Siemens SN658X03TE / Inbouw / Volledig geinte...  879,00   4.5    \n",
       "13712   Bosch SBV88UX36E / Inbouw / Volledig geïntegr...  999,00     5    \n",
       "13713   AEG FSE83617P / Inbouw / Volledig geintegreer...  959,00   4.5    \n",
       "\n",
       "      Number_Of_Reviews     Category  \n",
       "4186                72   Vaatwassers  \n",
       "4187                42   Vaatwassers  \n",
       "4188                33   Vaatwassers  \n",
       "4189                19   Vaatwassers  \n",
       "4190                40   Vaatwassers  \n",
       "...                 ...          ...  \n",
       "13709               56   Vaatwassers  \n",
       "13710                0   Vaatwassers  \n",
       "13711               56   Vaatwassers  \n",
       "13712                6   Vaatwassers  \n",
       "13713                6   Vaatwassers  \n",
       "\n",
       "[308 rows x 5 columns]"
      ],
      "text/html": "<div>\n<style scoped>\n    .dataframe tbody tr th:only-of-type {\n        vertical-align: middle;\n    }\n\n    .dataframe tbody tr th {\n        vertical-align: top;\n    }\n\n    .dataframe thead th {\n        text-align: right;\n    }\n</style>\n<table border=\"1\" class=\"dataframe\">\n  <thead>\n    <tr style=\"text-align: right;\">\n      <th></th>\n      <th>Product_Name</th>\n      <th>Price</th>\n      <th>Review</th>\n      <th>Number_Of_Reviews</th>\n      <th>Category</th>\n    </tr>\n  </thead>\n  <tbody>\n    <tr>\n      <th>4186</th>\n      <td>Bosch SMV68PX01N / Inbouw / Volledig geintegr...</td>\n      <td>859,00</td>\n      <td>4.5</td>\n      <td>72</td>\n      <td>Vaatwassers</td>\n    </tr>\n    <tr>\n      <th>4187</th>\n      <td>Siemens SN636X01GE / Inbouw / Volledig geinte...</td>\n      <td>489,00</td>\n      <td>4.5</td>\n      <td>42</td>\n      <td>Vaatwassers</td>\n    </tr>\n    <tr>\n      <th>4188</th>\n      <td>Bosch SMU68TS06E / Inbouw / Onderbouw / Nisho...</td>\n      <td>857,00</td>\n      <td>5</td>\n      <td>33</td>\n      <td>Vaatwassers</td>\n    </tr>\n    <tr>\n      <th>4189</th>\n      <td>AEG FSE63617P/ Inbouw / Volledig geintegreerd...</td>\n      <td>699,00</td>\n      <td>4.5</td>\n      <td>19</td>\n      <td>Vaatwassers</td>\n    </tr>\n    <tr>\n      <th>4190</th>\n      <td>AEG FSB53907Z / Inbouw / Volledig geintegreer...</td>\n      <td>679,00</td>\n      <td>4.5</td>\n      <td>40</td>\n      <td>Vaatwassers</td>\n    </tr>\n    <tr>\n      <th>...</th>\n      <td>...</td>\n      <td>...</td>\n      <td>...</td>\n      <td>...</td>\n      <td>...</td>\n    </tr>\n    <tr>\n      <th>13709</th>\n      <td>Siemens SX658X03TE / Inbouw / Volledig geinte...</td>\n      <td>899,00</td>\n      <td>4.5</td>\n      <td>56</td>\n      <td>Vaatwassers</td>\n    </tr>\n    <tr>\n      <th>13710</th>\n      <td>AEG FSS62807P ComfortLift / Inbouw / Volledig...</td>\n      <td>979,00</td>\n      <td>0</td>\n      <td>0</td>\n      <td>Vaatwassers</td>\n    </tr>\n    <tr>\n      <th>13711</th>\n      <td>Siemens SN658X03TE / Inbouw / Volledig geinte...</td>\n      <td>879,00</td>\n      <td>4.5</td>\n      <td>56</td>\n      <td>Vaatwassers</td>\n    </tr>\n    <tr>\n      <th>13712</th>\n      <td>Bosch SBV88UX36E / Inbouw / Volledig geïntegr...</td>\n      <td>999,00</td>\n      <td>5</td>\n      <td>6</td>\n      <td>Vaatwassers</td>\n    </tr>\n    <tr>\n      <th>13713</th>\n      <td>AEG FSE83617P / Inbouw / Volledig geintegreer...</td>\n      <td>959,00</td>\n      <td>4.5</td>\n      <td>6</td>\n      <td>Vaatwassers</td>\n    </tr>\n  </tbody>\n</table>\n<p>308 rows × 5 columns</p>\n</div>"
     },
     "metadata": {},
     "execution_count": 69
    }
   ],
   "source": [
    "vaatwasser = df_v4[(df_v4.Category == \"Vaatwassers\")]\n",
    "vaatwasser"
   ]
  },
  {
   "cell_type": "code",
   "execution_count": 67,
   "metadata": {},
   "outputs": [
    {
     "output_type": "execute_result",
     "data": {
      "text/plain": [
       "Empty DataFrame\n",
       "Columns: [Product_Name, Price, Review, Number_Of_Reviews, Category]\n",
       "Index: []"
      ],
      "text/html": "<div>\n<style scoped>\n    .dataframe tbody tr th:only-of-type {\n        vertical-align: middle;\n    }\n\n    .dataframe tbody tr th {\n        vertical-align: top;\n    }\n\n    .dataframe thead th {\n        text-align: right;\n    }\n</style>\n<table border=\"1\" class=\"dataframe\">\n  <thead>\n    <tr style=\"text-align: right;\">\n      <th></th>\n      <th>Product_Name</th>\n      <th>Price</th>\n      <th>Review</th>\n      <th>Number_Of_Reviews</th>\n      <th>Category</th>\n    </tr>\n  </thead>\n  <tbody>\n  </tbody>\n</table>\n</div>"
     },
     "metadata": {},
     "execution_count": 67
    }
   ],
   "source": []
  },
  {
   "cell_type": "code",
   "execution_count": null,
   "metadata": {},
   "outputs": [],
   "source": []
  }
 ]
}