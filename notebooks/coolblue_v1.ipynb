{
 "metadata": {
  "language_info": {
   "codemirror_mode": {
    "name": "ipython",
    "version": 3
   },
   "file_extension": ".py",
   "mimetype": "text/x-python",
   "name": "python",
   "nbconvert_exporter": "python",
   "pygments_lexer": "ipython3",
   "version": "3.7.6-final"
  },
  "orig_nbformat": 2,
  "kernelspec": {
   "name": "python3",
   "display_name": "Python 3"
  }
 },
 "nbformat": 4,
 "nbformat_minor": 2,
 "cells": [
  {
   "cell_type": "code",
   "execution_count": 2,
   "metadata": {},
   "outputs": [],
   "source": [
    "import pandas as pd\n",
    "import numpy as np \n",
    "import requests \n",
    "from bs4 import BeautifulSoup\n"
   ]
  },
  {
   "cell_type": "code",
   "execution_count": 3,
   "metadata": {},
   "outputs": [],
   "source": [
    "url = \"https://coolblue.be/nl/\"\n",
    "test_url = \"https://www.coolblue.be/nl/laptops?pagina=1\"\n",
    "columns = ['Product_Name', 'Price', 'Review', 'Number_Of_Reviews']"
   ]
  },
  {
   "cell_type": "code",
   "execution_count": 4,
   "metadata": {},
   "outputs": [],
   "source": [
    "category_laptops = [\"laptops\", \"desktops\", \"monitoren\", \"schoudertassen\",\"laptopstandaarden\", \"public-displays\", \"laptops/tweedekans\", \"tablets\" ]\n",
    "last_extension = \"?pagina=1\"\n",
    "\n",
    "#Nota te nemen dat het nummer wel nog veranderd moet worden! "
   ]
  },
  {
   "cell_type": "code",
   "execution_count": 44,
   "metadata": {},
   "outputs": [],
   "source": [
    "# Assortiment v/d hoofdcategoriën!! \n",
    "url2 = \"https://www.coolblue.be/nl/ons-assortiment\"\n",
    "html_cat = requests.get(url2).content\n",
    "soup_cat = BeautifulSoup(html_cat, 'html.parser')\n",
    "cats = soup_cat.find_all('h2')\n",
    "cats2 = [categorie.getText().strip(\"\\n\").strip() for categorie in cats]\n",
    "subcats = soup_cat.find_all(class_='category-navigation__item')\n",
    "subcats = [subcategorie.getText().strip(\"\\n\").strip() for subcategorie in subcats]\n"
   ]
  },
  {
   "cell_type": "code",
   "execution_count": 17,
   "metadata": {},
   "outputs": [],
   "source": [
    "def url (category, number):\n",
    "    urls = []\n",
    "    for i in range(1, number+1): \n",
    "        new_url = \"https://www.coolblue.be/nl/\"+category+\"?pagina=\"+str(i)\n",
    "        urls.append(new_url)\n",
    "    return urls\n"
   ]
  },
  {
   "cell_type": "code",
   "execution_count": 18,
   "metadata": {},
   "outputs": [],
   "source": [
    "def list_articles (soups): \n",
    "    name_article = [element.text for element in soups.findAll(\"div\", {\"class\": \"grid-section-xs--gap-2 js-product-item-title-wrapper\"})]\n",
    "    article_rows = [row.strip(\"\\n\").replace(\"\\n\", \"\") for row in name_article]\n",
    "    return article_rows \n"
   ]
  },
  {
   "cell_type": "code",
   "execution_count": 19,
   "metadata": {},
   "outputs": [],
   "source": [
    "def list_prices (soups): \n",
    "    price = [element.text for element in soups.findAll(\"div\", {\"class\": \"grid-section-xs--gap-3 flex-container--justify-content--space-between\"})]\n",
    "    price_row = [row.strip(\"\\n\").replace(\"\\n\", \"\") for row in price]\n",
    "    price_test = [row.split(\"-\") for row in price_row]\n",
    "    price_test2 = [row[0]+\"00\" for row in price_test]\n",
    "    return price_test2"
   ]
  },
  {
   "cell_type": "code",
   "execution_count": 20,
   "metadata": {},
   "outputs": [],
   "source": [
    "def list_stars (soups): \n",
    "    rating = [element.text for element in soup.findAll(\"div\", {\"class\": \"review-rating\"})]\n",
    "    rating_row = [row.strip(\"\\n\").replace(\"\\n\", \"\") for row in rating]\n",
    "    rating_row2 = [row.strip(\" \").strip(\"reviews\") for row in rating_row]\n",
    "    rating_row3 = [row.split(\"/\") for row in rating_row2]\n",
    "    rating_row4 = [row[0] for row in rating_row3]\n",
    "    return rating_row4\n"
   ]
  },
  {
   "cell_type": "code",
   "execution_count": 21,
   "metadata": {},
   "outputs": [],
   "source": [
    "def list_number_ratings (soups): \n",
    "    rating = [element.text for element in soup.findAll(\"div\", {\"class\": \"review-rating\"})]\n",
    "    rating_row = [row.strip(\"\\n\").replace(\"\\n\", \"\") for row in rating]\n",
    "    rating_row2 = [row.strip(\" \").strip(\"reviews\") for row in rating_row]\n",
    "    rating_row3 = [row.split(\"/\") for row in rating_row2]\n",
    "    review = [review[-1][-3:] for review in rating_row3]\n",
    "    return review"
   ]
  },
  {
   "cell_type": "code",
   "execution_count": 22,
   "metadata": {},
   "outputs": [],
   "source": [
    "def coolblue_v2 (): \n",
    "    cat = input(\"Which category you want to scrape? \")\n",
    "    number_pages = input(\"How many pages you want to scrape? \")\n",
    "    int_number_pages = int(number_pages)\n",
    "    webpages = url(cat, int_number_pages)\n",
    "    products2 = []\n",
    "    for webpage in webpages: \n",
    "        html = requests.get(webpage).content\n",
    "        soup = BeautifulSoup(html, 'html.parser')\n",
    "        articles = list_articles(soup)\n",
    "        prices = list_prices(soup)\n",
    "        stars = list_stars(soup)\n",
    "        num_ratings = list_number_ratings (soup)\n",
    "        for i in range(0, len(articles)): \n",
    "            pro = [articles[i], prices[i], stars[i], num_ratings[i]]\n",
    "            products2.append(pro)\n",
    "    return products2\n",
    "\n",
    "\n",
    "#monitoren\n",
    "#schoudertassen"
   ]
  },
  {
   "cell_type": "code",
   "execution_count": 24,
   "metadata": {},
   "outputs": [],
   "source": [
    "data = coolblue_v2()\n",
    "colnames = columns\n",
    "df = pd.DataFrame(data, columns=colnames) \n"
   ]
  }
 ]
}