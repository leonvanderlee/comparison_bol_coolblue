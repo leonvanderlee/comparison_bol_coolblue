{
 "metadata": {
  "language_info": {
   "codemirror_mode": {
    "name": "ipython",
    "version": 3
   },
   "file_extension": ".py",
   "mimetype": "text/x-python",
   "name": "python",
   "nbconvert_exporter": "python",
   "pygments_lexer": "ipython3",
   "version": "3.7.6-final"
  },
  "orig_nbformat": 2,
  "kernelspec": {
   "name": "python3",
   "display_name": "Python 3"
  }
 },
 "nbformat": 4,
 "nbformat_minor": 2,
 "cells": [
  {
   "cell_type": "code",
   "execution_count": 313,
   "metadata": {},
   "outputs": [],
   "source": [
    "import pandas as pd\n",
    "import numpy as np \n",
    "import requests \n",
    "from bs4 import BeautifulSoup\n"
   ]
  },
  {
   "cell_type": "code",
   "execution_count": 203,
   "metadata": {},
   "outputs": [],
   "source": [
    "url = \"https://coolblue.be/nl/\"\n",
    "test_url = \"https://www.coolblue.be/nl/laptops?pagina=1\"\n",
    "columns = ['Product_Name', 'Price', 'Review', 'Number_Of_Reviews']"
   ]
  },
  {
   "cell_type": "code",
   "execution_count": 16,
   "metadata": {},
   "outputs": [],
   "source": [
    "category_laptops = [\"laptops\", \"desktops\", \"monitoren\", \"schoudertassen\",\"laptopstandaarden\", \"public-displays\", \"laptops/tweedekans\", \"tablets\" ]\n",
    "last_extension = \"?pagina=1\"\n",
    "\n",
    "#Nota te nemen dat het nummer wel nog veranderd moet worden! "
   ]
  },
  {
   "cell_type": "code",
   "execution_count": 23,
   "metadata": {},
   "outputs": [],
   "source": [
    "html = requests.get(test_url).content\n",
    "soup = BeautifulSoup(html, 'html.parser')"
   ]
  },
  {
   "cell_type": "code",
   "execution_count": 28,
   "metadata": {},
   "outputs": [],
   "source": [
    "#h3 is for retrieving the name of the product! \n",
    "text = [element.text for element in soup.findAll('h3')]"
   ]
  },
  {
   "cell_type": "code",
   "execution_count": 29,
   "metadata": {},
   "outputs": [
    {
     "output_type": "execute_result",
     "data": {
      "text/plain": [
       "[]"
      ]
     },
     "metadata": {},
     "execution_count": 29
    }
   ],
   "source": [
    "text2"
   ]
  },
  {
   "cell_type": "code",
   "execution_count": 205,
   "metadata": {},
   "outputs": [
    {
     "output_type": "stream",
     "name": "stdout",
     "text": [
      "['  Acer Aspire 5 A515-55G-52BM Azerty                4.5 / 5 sterren                                                31 reviews                        Onze keuze voor een studentenlaptop tot 800 euro', '                                                                            15,6 inch                                                ', '                                                        Processor                    intel Core i5                                                ', '                                                                            8 GB                    RAM                            699,-            Morgen in huis                Morgen in huis                Vergelijk                Bekijk vergelijking    ']\n"
     ]
    }
   ],
   "source": [
    "inhoud = [element.text for element in soup.findAll(\"div\", {\"class\": \"product-card__details js-product-details grid-unit-xs--col-8 grid-unit-l--col-12\"})]\n",
    "rows = [row.strip(\"\\n\").replace(\"\\n\", \"\").split(\"|\") for row in inhoud]\n",
    "print(rows[0])"
   ]
  },
  {
   "cell_type": "code",
   "execution_count": 88,
   "metadata": {},
   "outputs": [
    {
     "output_type": "execute_result",
     "data": {
      "text/plain": [
       "[' Acer Aspire 5 A515-55G-52BM Azerty',\n",
       " ' Lenovo IdeaPad 5 15IIL05 81YK00F3MB Azerty',\n",
       " ' Apple MacBook Air (2020) 8/256GB 1,1GHz Space Gray AZERTY',\n",
       " ' HP Pavilion 15-cs3061nb Azerty',\n",
       " ' Acer Aspire 3 A315-56-51Z4 Azerty',\n",
       " ' HP Pavilion 15-cw1039nb Azerty',\n",
       " ' Lenovo IdeaPad L340-15IRH Gaming 81LK01GWMB Azerty',\n",
       " ' HP Pavilion x360 15-dq1013nb Azerty',\n",
       " ' Acer Aspire 3 A317-51G-53YF Azerty',\n",
       " ' Acer Aspire 3 A315-23-R3WY Azerty',\n",
       " ' HP 17-ca1130nb Azerty',\n",
       " ' Asus Vivobook 15 P1504JA-EJ485T-BE Azerty',\n",
       " ' Lenovo IdeaPad L340-17IRH Gaming 81LL00GUMB Azerty',\n",
       " ' Apple Macbook Air (2020) MVH22FN/A Space Gray AZERTY',\n",
       " ' HP Pavilion 14-ce3040nb Azerty',\n",
       " ' HP 15s-fq1057nb Azerty',\n",
       " ' Lenovo ThinkPad E15 20RD004JMB Azerty',\n",
       " ' Acer Swift 3 SF314-58-562K Azerty',\n",
       " ' Asus Vivobook 15 P1504JA-EJ572T-BE Azerty',\n",
       " ' Lenovo IdeaPad 3 14IIL05 81WD00BHMB Azerty',\n",
       " ' HP Pavilion G 17-cd1015nb Azerty',\n",
       " ' HP Pavilion G 15-dk1037nb Azerty']"
      ]
     },
     "metadata": {},
     "execution_count": 88
    }
   ],
   "source": [
    "# This if for the name of the product!\n",
    "\n",
    "name_article = [element.text for element in soup.findAll(\"div\", {\"class\": \"grid-section-xs--gap-2 js-product-item-title-wrapper\"})]\n",
    "rows = [row.strip(\"\\n\").replace(\"\\n\", \"\") for row in name_article]\n",
    "#rows"
   ]
  },
  {
   "cell_type": "code",
   "execution_count": 93,
   "metadata": {},
   "outputs": [],
   "source": [
    "stars_reviews = [element.text for element in soup.findAll(\"div\", {\"class\": \"grid-section-xs--gap-1 js-product-item-review-rating-wrapper\"})]\n",
    "stars_row = [row.strip(\"\\n\").replace(\"\\n\", \"\") for row in stars_reviews]\n",
    "stars_row_2 = [row.strip() for row in stars_row]\n"
   ]
  },
  {
   "cell_type": "code",
   "execution_count": 207,
   "metadata": {},
   "outputs": [
    {
     "output_type": "execute_result",
     "data": {
      "text/plain": [
       "['699,00',\n",
       " '819,00',\n",
       " '1.249,00',\n",
       " '1.019,00',\n",
       " '569,00',\n",
       " '699,00',\n",
       " '1.079,00',\n",
       " '                    799,00',\n",
       " '699,00',\n",
       " '499,00',\n",
       " '629,00',\n",
       " '                    559,00',\n",
       " '799,00',\n",
       " '1.399,00',\n",
       " '989,00',\n",
       " '749,00',\n",
       " '1.049,00',\n",
       " '689,00',\n",
       " '619,00',\n",
       " '499,00',\n",
       " '1.149,00',\n",
       " '1.099,00']"
      ]
     },
     "metadata": {},
     "execution_count": 207
    }
   ],
   "source": [
    "price = [element.text for element in soup.findAll(\"div\", {\"class\": \"grid-section-xs--gap-3 flex-container--justify-content--space-between\"})]\n",
    "price_row = [row.strip(\"\\n\").replace(\"\\n\", \"\") for row in price]\n",
    "price_test = [row.split(\"-\") for row in price_row]\n",
    "price_test2 = [row[0]+\"00\" for row in price_test]\n",
    "price_test2\n"
   ]
  },
  {
   "cell_type": "code",
   "execution_count": 148,
   "metadata": {},
   "outputs": [
    {
     "output_type": "stream",
     "name": "stdout",
     "text": [
      " Acer Aspire 5 A515-55G-52BM Azerty\n price is: 699,00 EUR \n\n Lenovo IdeaPad 5 15IIL05 81YK00F3MB Azerty\n price is: 819,00 EUR \n\n Apple MacBook Air (2020) 8/256GB 1,1GHz Space Gray AZERTY\n price is: 1.249,00 EUR \n\n HP Pavilion 15-cs3061nb Azerty\n price is: 1.019,00 EUR \n\n Acer Aspire 3 A315-56-51Z4 Azerty\n price is: 569,00 EUR \n\n HP Pavilion 15-cw1039nb Azerty\n price is: 699,00 EUR \n\n Lenovo IdeaPad L340-15IRH Gaming 81LK01GWMB Azerty\n price is: 1.079,00 EUR \n\n HP Pavilion x360 15-dq1013nb Azerty\n price is:                     799,00 EUR \n\n Acer Aspire 3 A317-51G-53YF Azerty\n price is: 699,00 EUR \n\n Acer Aspire 3 A315-23-R3WY Azerty\n price is: 499,00 EUR \n\n HP 17-ca1130nb Azerty\n price is: 629,00 EUR \n\n Asus Vivobook 15 P1504JA-EJ485T-BE Azerty\n price is:                     559,00 EUR \n\n Lenovo IdeaPad L340-17IRH Gaming 81LL00GUMB Azerty\n price is: 799,00 EUR \n\n Apple Macbook Air (2020) MVH22FN/A Space Gray AZERTY\n price is: 1.399,00 EUR \n\n HP Pavilion 14-ce3040nb Azerty\n price is: 989,00 EUR \n\n HP 15s-fq1057nb Azerty\n price is: 749,00 EUR \n\n Lenovo ThinkPad E15 20RD004JMB Azerty\n price is: 1.049,00 EUR \n\n Acer Swift 3 SF314-58-562K Azerty\n price is: 689,00 EUR \n\n Asus Vivobook 15 P1504JA-EJ572T-BE Azerty\n price is: 619,00 EUR \n\n Lenovo IdeaPad 3 14IIL05 81WD00BHMB Azerty\n price is: 499,00 EUR \n\n HP Pavilion G 17-cd1015nb Azerty\n price is: 1.149,00 EUR \n\n HP Pavilion G 15-dk1037nb Azerty\n price is: 1.099,00 EUR \n\n"
     ]
    }
   ],
   "source": [
    "for i in range(len(price_test)): \n",
    "    print(rows[i]+\"\\n price is: \"+price_test[i][0]+\"00 EUR \\n\")\n",
    "\n"
   ]
  },
  {
   "cell_type": "code",
   "execution_count": 135,
   "metadata": {},
   "outputs": [
    {
     "output_type": "execute_result",
     "data": {
      "text/plain": [
       "[]"
      ]
     },
     "metadata": {},
     "execution_count": 135
    }
   ],
   "source": [
    "price_test2"
   ]
  },
  {
   "cell_type": "code",
   "execution_count": 215,
   "metadata": {},
   "outputs": [
    {
     "output_type": "execute_result",
     "data": {
      "text/plain": [
       "[['4.5 ', ' 5 sterren                                                31 '],\n",
       " ['4.5 ', ' 5 sterren                                                20 '],\n",
       " ['4.5 ', ' 5 sterren                                                80 '],\n",
       " ['4.5 ', ' 5 sterren                                                19 '],\n",
       " ['4.5 ', ' 5 sterren                                                33 '],\n",
       " ['4.5 ', ' 5 sterren                                                186 '],\n",
       " ['4.5 ', ' 5 sterren                                                56 '],\n",
       " ['4.5 ', ' 5 sterren                                                3 '],\n",
       " ['4.5 ', ' 5 sterren                                                7 '],\n",
       " ['4.5 ', ' 5 sterren                                                33 '],\n",
       " ['5 ', ' 5 sterren                                                2 '],\n",
       " ['4.5 ', ' 5 sterren                                                5 '],\n",
       " ['4.5 ', ' 5 sterren                                                40 '],\n",
       " ['4.5 ', ' 5 sterren                                                80 '],\n",
       " ['3 ', ' 5 sterren                                                2 '],\n",
       " ['4.5 ', ' 5 sterren                                                17 '],\n",
       " ['5 ', ' 5 sterren                                                3 '],\n",
       " ['4.5 ', ' 5 sterren                                                35 '],\n",
       " ['4.5 ', ' 5 sterren                                                5 '],\n",
       " ['0 ',\n",
       "  ' 5 sterren                                                            0 '],\n",
       " ['4.5 ', ' 5 sterren                                                30 '],\n",
       " ['4.5 ', ' 5 sterren                                                21 ']]"
      ]
     },
     "metadata": {},
     "execution_count": 215
    }
   ],
   "source": [
    "rating = [element.text for element in soup.findAll(\"div\", {\"class\": \"review-rating\"})]\n",
    "rating_row = [row.strip(\"\\n\").replace(\"\\n\", \"\") for row in rating]\n",
    "rating_row2 = [row.strip(\" \").strip(\"reviews\") for row in rating_row]\n",
    "rating_row3 = [row.split(\"/\") for row in rating_row2]\n",
    "\n",
    "rating_row3"
   ]
  },
  {
   "cell_type": "code",
   "execution_count": 201,
   "metadata": {},
   "outputs": [],
   "source": [
    "number_reviews = []\n",
    "\n",
    "for i in range(len(rating_row3)): \n",
    "    review = rating_row3[i][-1]\n",
    "    review2 = review[-3:]\n",
    "    number_reviews.append(review2)"
   ]
  },
  {
   "cell_type": "code",
   "execution_count": 202,
   "metadata": {},
   "outputs": [
    {
     "output_type": "execute_result",
     "data": {
      "text/plain": [
       "['31 ',\n",
       " '20 ',\n",
       " '80 ',\n",
       " '19 ',\n",
       " '33 ',\n",
       " '86 ',\n",
       " '56 ',\n",
       " ' 3 ',\n",
       " ' 7 ',\n",
       " '33 ',\n",
       " ' 2 ',\n",
       " ' 5 ',\n",
       " '40 ',\n",
       " '80 ',\n",
       " ' 2 ',\n",
       " '17 ',\n",
       " ' 3 ',\n",
       " '35 ',\n",
       " ' 5 ',\n",
       " ' 0 ',\n",
       " '30 ',\n",
       " '21 ']"
      ]
     },
     "metadata": {},
     "execution_count": 202
    }
   ],
   "source": [
    "#test = rating_row3[0][-1]\n",
    "#test2 = test[-3:]\n",
    "#test2\n",
    "\n",
    "number_reviews"
   ]
  },
  {
   "cell_type": "code",
   "execution_count": 204,
   "metadata": {},
   "outputs": [
    {
     "output_type": "stream",
     "name": "stdout",
     "text": [
      "Bert\n"
     ]
    }
   ],
   "source": [
    "#abc = input(\"give me the category\")\n",
    "#print(abc)"
   ]
  },
  {
   "cell_type": "code",
   "execution_count": 228,
   "metadata": {},
   "outputs": [],
   "source": [
    "#def coolblues ():\n",
    "#    number = input(\"Give me the number of pages you would like to scrape: \")\n",
    "#    cat = input(\"Which category you would like to scrape? \")\n",
    "#    cat2 = int(number)\n",
    "#    products = []\n",
    "#    for num in range(1, cat2+1):\n",
    "#        product = [] \n",
    "#        url = \"https://www.coolblue.be/nl/\"+cat+\"?pagina=\"+str(num)\n",
    "#        html = requests.get(url).content\n",
    "#        soup = BeautifulSoup(html, 'html.parser')\n",
    "#        name_article = [element.text for element in soup.findAll(\"div\", {\"class\": \"grid-section-xs--gap-2 js-product-item-title-wrapper\"})]\n",
    "#        article_rows = [row.strip(\"\\n\").replace(\"\\n\", \"\") for row in name_article]\n",
    "#        price = [element.text for element in soup.findAll(\"div\", {\"class\": \"grid-section-xs--gap-3 flex-container--justify-content--space-between\"})]\n",
    "#        price_row = [row.strip(\"\\n\").replace(\"\\n\", \"\") for row in price]\n",
    "#        price_test = [row.split(\"-\") for row in price_row]\n",
    "#        price_test2 = [row[0]+\"00\" for row in price_test]\n",
    "#        rating = [element.text for element in soup.findAll(\"div\", {\"class\": \"review-rating\"})]\n",
    "#        rating_row = [row.strip(\"\\n\").replace(\"\\n\", \"\") for row in rating]\n",
    "#        rating_row2 = [row.strip(\" \").strip(\"reviews\") for row in rating_row]\n",
    "#        rating_row3 = [row.split(\"/\") for row in rating_row2]\n",
    "#        review = rating_row3[num-1][-1]\n",
    "#        review2 = review[-3:]\n",
    "#        star = rating_row3[num-1][0]\n",
    "#        product.append(article_rows[num-1])\n",
    "#        product.append(price_test2[num-1])\n",
    "#        product.append(star)\n",
    "#        product.append(review2)\n",
    "#        products.append(product)\n",
    "#    return products"
   ]
  },
  {
   "cell_type": "code",
   "execution_count": 245,
   "metadata": {},
   "outputs": [],
   "source": [
    "def url (category, number):\n",
    "    urls = []\n",
    "    for i in range(1, number+1): \n",
    "        new_url = \"https://www.coolblue.be/nl/\"+category+\"?pagina=\"+str(i)\n",
    "        urls.append(new_url)\n",
    "    return urls\n"
   ]
  },
  {
   "cell_type": "code",
   "execution_count": 251,
   "metadata": {},
   "outputs": [],
   "source": [
    "def list_articles (soups): \n",
    "    name_article = [element.text for element in soups.findAll(\"div\", {\"class\": \"grid-section-xs--gap-2 js-product-item-title-wrapper\"})]\n",
    "    article_rows = [row.strip(\"\\n\").replace(\"\\n\", \"\") for row in name_article]\n",
    "    return article_rows \n"
   ]
  },
  {
   "cell_type": "code",
   "execution_count": 269,
   "metadata": {},
   "outputs": [],
   "source": [
    "def list_prices (soups): \n",
    "    price = [element.text for element in soups.findAll(\"div\", {\"class\": \"grid-section-xs--gap-3 flex-container--justify-content--space-between\"})]\n",
    "    price_row = [row.strip(\"\\n\").replace(\"\\n\", \"\") for row in price]\n",
    "    price_test = [row.split(\"-\") for row in price_row]\n",
    "    price_test2 = [row[0]+\"00\" for row in price_test]\n",
    "    return price_test2"
   ]
  },
  {
   "cell_type": "code",
   "execution_count": 288,
   "metadata": {},
   "outputs": [],
   "source": [
    "def list_stars (soups): \n",
    "    rating = [element.text for element in soup.findAll(\"div\", {\"class\": \"review-rating\"})]\n",
    "    rating_row = [row.strip(\"\\n\").replace(\"\\n\", \"\") for row in rating]\n",
    "    rating_row2 = [row.strip(\" \").strip(\"reviews\") for row in rating_row]\n",
    "    rating_row3 = [row.split(\"/\") for row in rating_row2]\n",
    "    rating_row4 = [row[0] for row in rating_row3]\n",
    "    return rating_row4\n"
   ]
  },
  {
   "cell_type": "code",
   "execution_count": 297,
   "metadata": {},
   "outputs": [],
   "source": [
    "def list_number_ratings (soups): \n",
    "    rating = [element.text for element in soup.findAll(\"div\", {\"class\": \"review-rating\"})]\n",
    "    rating_row = [row.strip(\"\\n\").replace(\"\\n\", \"\") for row in rating]\n",
    "    rating_row2 = [row.strip(\" \").strip(\"reviews\") for row in rating_row]\n",
    "    rating_row3 = [row.split(\"/\") for row in rating_row2]\n",
    "    review = [review[-1][-3:] for review in rating_row3]\n",
    "    return review"
   ]
  },
  {
   "cell_type": "code",
   "execution_count": 298,
   "metadata": {},
   "outputs": [],
   "source": [
    "gy_v2 = list_number_ratings(soup)"
   ]
  },
  {
   "cell_type": "code",
   "execution_count": 299,
   "metadata": {},
   "outputs": [
    {
     "output_type": "execute_result",
     "data": {
      "text/plain": [
       "['31 ',\n",
       " '20 ',\n",
       " '80 ',\n",
       " '19 ',\n",
       " '33 ',\n",
       " '86 ',\n",
       " '56 ',\n",
       " ' 3 ',\n",
       " ' 7 ',\n",
       " '33 ',\n",
       " ' 2 ',\n",
       " ' 5 ',\n",
       " '40 ',\n",
       " '80 ',\n",
       " ' 2 ',\n",
       " '17 ',\n",
       " ' 3 ',\n",
       " '35 ',\n",
       " ' 5 ',\n",
       " ' 0 ',\n",
       " '30 ',\n",
       " '21 ']"
      ]
     },
     "metadata": {},
     "execution_count": 299
    }
   ],
   "source": [
    "gy_v2"
   ]
  },
  {
   "cell_type": "code",
   "execution_count": 309,
   "metadata": {},
   "outputs": [],
   "source": [
    "def coolblue_v2 (): \n",
    "    cat = input(\"Which category you want to scrape? \")\n",
    "    number_pages = input(\"How many pages you want to scrape? \")\n",
    "    int_number_pages = int(number_pages)\n",
    "    webpages = url(cat, int_number_pages)\n",
    "    products2 = []\n",
    "    for webpage in webpages: \n",
    "        html = requests.get(webpage).content\n",
    "        soup = BeautifulSoup(html, 'html.parser')\n",
    "        articles = list_articles(soup)\n",
    "        prices = list_prices(soup)\n",
    "        stars = list_stars(soup)\n",
    "        num_ratings = list_number_ratings (soup)\n",
    "        for i in range(0, len(articles)): \n",
    "            pro = [articles[i], prices[i], stars[i], num_ratings[i]]\n",
    "            products2.append(pro)\n",
    "    return products2\n",
    "\n",
    "\n",
    "#monitoren\n",
    "#schoudertassen"
   ]
  },
  {
   "cell_type": "code",
   "execution_count": 330,
   "metadata": {},
   "outputs": [],
   "source": [
    "gyros = coolblue_v2()"
   ]
  },
  {
   "cell_type": "code",
   "execution_count": 331,
   "metadata": {},
   "outputs": [],
   "source": [
    "colnames = columns\n",
    "data = gyros\n",
    "\n",
    "df = pd.DataFrame(data, columns=colnames)\n"
   ]
  },
  {
   "cell_type": "code",
   "execution_count": 342,
   "metadata": {},
   "outputs": [
    {
     "output_type": "execute_result",
     "data": {
      "text/plain": [
       "Product_Name         object\n",
       "Price                object\n",
       "Review               object\n",
       "Number_Of_Reviews    object\n",
       "dtype: object"
      ]
     },
     "metadata": {},
     "execution_count": 342
    }
   ],
   "source": [
    "df.dtypes"
   ]
  },
  {
   "cell_type": "code",
   "execution_count": 334,
   "metadata": {},
   "outputs": [
    {
     "output_type": "error",
     "ename": "NameError",
     "evalue": "name 'Price' is not defined",
     "traceback": [
      "\u001b[0;31m---------------------------------------------------------------------------\u001b[0m",
      "\u001b[0;31mNameError\u001b[0m                                 Traceback (most recent call last)",
      "\u001b[0;32m<ipython-input-334-359dcb7bd7da>\u001b[0m in \u001b[0;36m<module>\u001b[0;34m\u001b[0m\n\u001b[0;32m----> 1\u001b[0;31m \u001b[0mtest_price\u001b[0m \u001b[0;34m=\u001b[0m \u001b[0mdf\u001b[0m\u001b[0;34m[\u001b[0m\u001b[0mPrice\u001b[0m\u001b[0;34m]\u001b[0m\u001b[0;34m\u001b[0m\u001b[0;34m\u001b[0m\u001b[0m\n\u001b[0m\u001b[1;32m      2\u001b[0m \u001b[0mtest_price\u001b[0m\u001b[0;34m\u001b[0m\u001b[0;34m\u001b[0m\u001b[0m\n",
      "\u001b[0;31mNameError\u001b[0m: name 'Price' is not defined"
     ]
    }
   ],
   "source": []
  },
  {
   "cell_type": "code",
   "execution_count": null,
   "metadata": {},
   "outputs": [],
   "source": []
  }
 ]
}