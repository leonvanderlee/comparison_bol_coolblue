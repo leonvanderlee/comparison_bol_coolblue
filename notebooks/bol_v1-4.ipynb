{
 "metadata": {
  "language_info": {
   "codemirror_mode": {
    "name": "ipython",
    "version": 3
   },
   "file_extension": ".py",
   "mimetype": "text/x-python",
   "name": "python",
   "nbconvert_exporter": "python",
   "pygments_lexer": "ipython3",
   "version": "3.8.3-final"
  },
  "orig_nbformat": 2,
  "kernelspec": {
   "name": "python3",
   "display_name": "Python 3"
  }
 },
 "nbformat": 4,
 "nbformat_minor": 2,
 "cells": [
  {
   "source": [
    "# Bol.com Web Scraping"
   ],
   "cell_type": "markdown",
   "metadata": {}
  },
  {
   "cell_type": "code",
   "execution_count": 1,
   "metadata": {},
   "outputs": [],
   "source": [
    "import pandas as pd\n",
    "import numpy as np\n",
    "\n",
    "import time\n",
    "\n",
    "import requests\n",
    "from bs4 import BeautifulSoup"
   ]
  },
  {
   "cell_type": "code",
   "execution_count": 2,
   "metadata": {},
   "outputs": [],
   "source": [
    "all_products = []\n",
    "\n",
    "for i in range(1, 10):\n",
    "    response = requests.get(f'https://www.bol.com/nl/s/?page={i}&searchtext=computer&view=list')\n",
    "    soup = BeautifulSoup(response.content, 'html.parser')\n",
    "    products = soup.find_all(class_='product-item--row js_item_root')\n",
    "    all_products.extend(products)\n",
    "    time.sleep(5)"
   ]
  },
  {
   "cell_type": "code",
   "execution_count": 3,
   "metadata": {},
   "outputs": [],
   "source": [
    "lst = []\n",
    "\n",
    "for item in all_products:\n",
    "    if item.find(class_='product-prices').getText() == '\\nNiet leverbaar\\n':\n",
    "        price = None\n",
    "    else:\n",
    "        price = float(item.meta['content'])\n",
    "        product = item.find(class_='product-title--inline').a.getText()\n",
    "        lst.append([product, price])"
   ]
  },
  {
   "cell_type": "code",
   "execution_count": 4,
   "metadata": {},
   "outputs": [
    {
     "output_type": "stream",
     "name": "stdout",
     "text": [
      "[['Google Chromecast 3 - Media Streamer', 39.0], ['TP-LINK RE200 - Wifi Versterker - 750 Mbps', 29.0], ['Verstelbare Ergonomische Laptop/Notebook Standaard Universeel - Lichtgewicht laptop Apple Macbook Pro/Air, iPad, Asus, HP, ACER, Microsoft, Lenovo, Windows - Tablet Steun Opvouwbare Stand - 13, 14 , 15, 16, 17 inch', 13.66], ['Seagate Expansion Portable 1TB - Externe harde schijf / Zwart', 49.99], ['Trust Mydo - Stille Draadloze Muis - Zwart', 13.49], ['Trust Bigfoot - Gel Muismat - Zwart', 10.99], ['HP ENVY 5030 - All-in-One Printer', 77.95], ['Google Chromecast Ultra - Media Streamer', 79.99], ['TP-Link TL-SG105 - Switch', 16.54], ['Logitech M705 - Draadloze Marathon Muis', 33.99]]\n"
     ]
    }
   ],
   "source": [
    "print(lst[:10])"
   ]
  },
  {
   "cell_type": "code",
   "execution_count": 5,
   "metadata": {},
   "outputs": [
    {
     "output_type": "execute_result",
     "data": {
      "text/plain": [
       "213"
      ]
     },
     "metadata": {},
     "execution_count": 5
    }
   ],
   "source": [
    "len(lst)"
   ]
  },
  {
   "cell_type": "code",
   "execution_count": 6,
   "metadata": {},
   "outputs": [],
   "source": [
    "df = pd.DataFrame(lst, columns=['Product', 'Price'])"
   ]
  },
  {
   "cell_type": "code",
   "execution_count": 7,
   "metadata": {},
   "outputs": [],
   "source": [
    "df = df.dropna()"
   ]
  },
  {
   "cell_type": "code",
   "execution_count": 8,
   "metadata": {},
   "outputs": [],
   "source": [
    "df = df.reset_index(drop=True)"
   ]
  },
  {
   "cell_type": "code",
   "execution_count": 9,
   "metadata": {},
   "outputs": [
    {
     "output_type": "execute_result",
     "data": {
      "text/plain": [
       "                                             Product  Price\n",
       "0               Google Chromecast 3 - Media Streamer  39.00\n",
       "1         TP-LINK RE200 - Wifi Versterker - 750 Mbps  29.00\n",
       "2  Verstelbare Ergonomische Laptop/Notebook Stand...  13.66\n",
       "3  Seagate Expansion Portable 1TB - Externe harde...  49.99\n",
       "4         Trust Mydo - Stille Draadloze Muis - Zwart  13.49\n",
       "5                Trust Bigfoot - Gel Muismat - Zwart  10.99\n",
       "6                  HP ENVY 5030 - All-in-One Printer  77.95\n",
       "7           Google Chromecast Ultra - Media Streamer  79.99\n",
       "8                          TP-Link TL-SG105 - Switch  16.54\n",
       "9            Logitech M705 - Draadloze Marathon Muis  33.99"
      ],
      "text/html": "<div>\n<style scoped>\n    .dataframe tbody tr th:only-of-type {\n        vertical-align: middle;\n    }\n\n    .dataframe tbody tr th {\n        vertical-align: top;\n    }\n\n    .dataframe thead th {\n        text-align: right;\n    }\n</style>\n<table border=\"1\" class=\"dataframe\">\n  <thead>\n    <tr style=\"text-align: right;\">\n      <th></th>\n      <th>Product</th>\n      <th>Price</th>\n    </tr>\n  </thead>\n  <tbody>\n    <tr>\n      <th>0</th>\n      <td>Google Chromecast 3 - Media Streamer</td>\n      <td>39.00</td>\n    </tr>\n    <tr>\n      <th>1</th>\n      <td>TP-LINK RE200 - Wifi Versterker - 750 Mbps</td>\n      <td>29.00</td>\n    </tr>\n    <tr>\n      <th>2</th>\n      <td>Verstelbare Ergonomische Laptop/Notebook Stand...</td>\n      <td>13.66</td>\n    </tr>\n    <tr>\n      <th>3</th>\n      <td>Seagate Expansion Portable 1TB - Externe harde...</td>\n      <td>49.99</td>\n    </tr>\n    <tr>\n      <th>4</th>\n      <td>Trust Mydo - Stille Draadloze Muis - Zwart</td>\n      <td>13.49</td>\n    </tr>\n    <tr>\n      <th>5</th>\n      <td>Trust Bigfoot - Gel Muismat - Zwart</td>\n      <td>10.99</td>\n    </tr>\n    <tr>\n      <th>6</th>\n      <td>HP ENVY 5030 - All-in-One Printer</td>\n      <td>77.95</td>\n    </tr>\n    <tr>\n      <th>7</th>\n      <td>Google Chromecast Ultra - Media Streamer</td>\n      <td>79.99</td>\n    </tr>\n    <tr>\n      <th>8</th>\n      <td>TP-Link TL-SG105 - Switch</td>\n      <td>16.54</td>\n    </tr>\n    <tr>\n      <th>9</th>\n      <td>Logitech M705 - Draadloze Marathon Muis</td>\n      <td>33.99</td>\n    </tr>\n  </tbody>\n</table>\n</div>"
     },
     "metadata": {},
     "execution_count": 9
    }
   ],
   "source": [
    "df.head(10)"
   ]
  },
  {
   "cell_type": "code",
   "execution_count": 10,
   "metadata": {},
   "outputs": [
    {
     "output_type": "stream",
     "name": "stdout",
     "text": [
      "<class 'pandas.core.frame.DataFrame'>\nRangeIndex: 213 entries, 0 to 212\nData columns (total 2 columns):\n #   Column   Non-Null Count  Dtype  \n---  ------   --------------  -----  \n 0   Product  213 non-null    object \n 1   Price    213 non-null    float64\ndtypes: float64(1), object(1)\nmemory usage: 3.5+ KB\n"
     ]
    }
   ],
   "source": [
    "df.info()"
   ]
  },
  {
   "cell_type": "code",
   "execution_count": 11,
   "metadata": {},
   "outputs": [],
   "source": [
    "df.to_csv('../data/processed/bol.csv')"
   ]
  }
 ]
}