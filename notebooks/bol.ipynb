{
 "metadata": {
  "language_info": {
   "codemirror_mode": {
    "name": "ipython",
    "version": 3
   },
   "file_extension": ".py",
   "mimetype": "text/x-python",
   "name": "python",
   "nbconvert_exporter": "python",
   "pygments_lexer": "ipython3",
   "version": "3.8.3-final"
  },
  "orig_nbformat": 2,
  "kernelspec": {
   "name": "python3",
   "display_name": "Python 3"
  }
 },
 "nbformat": 4,
 "nbformat_minor": 2,
 "cells": [
  {
   "source": [
    "# Bol.com Web Scraping"
   ],
   "cell_type": "markdown",
   "metadata": {}
  },
  {
   "cell_type": "code",
   "execution_count": 1,
   "metadata": {},
   "outputs": [],
   "source": [
    "import pandas as pd\n",
    "import numpy as np\n",
    "\n",
    "import requests\n",
    "from bs4 import BeautifulSoup\n",
    "\n",
    "import time\n",
    "\n",
    "from tqdm import tqdm"
   ]
  },
  {
   "cell_type": "code",
   "execution_count": 2,
   "metadata": {},
   "outputs": [],
   "source": [
    "categories = ['laptops', 'desktops', 'monitoren', 'randapparatuur', 'netwerk-&-internet', 'tassen-&-hoezen', 'printers-&-supplies', 'pc-gaming-winkel', 'software', 'dataopslag', 'beamers', 'componenten']"
   ]
  },
  {
   "cell_type": "code",
   "execution_count": 3,
   "metadata": {},
   "outputs": [
    {
     "output_type": "stream",
     "name": "stdout",
     "text": [
      "12\n"
     ]
    }
   ],
   "source": [
    "print(len(categories))"
   ]
  },
  {
   "cell_type": "code",
   "execution_count": 4,
   "metadata": {},
   "outputs": [
    {
     "output_type": "stream",
     "name": "stderr",
     "text": [
      "100%|██████████| 500/500 [21:53<00:00,  2.63s/it]\n",
      "100%|██████████| 500/500 [19:20<00:00,  2.32s/it]\n",
      "100%|██████████| 500/500 [19:27<00:00,  2.33s/it]\n",
      "100%|██████████| 500/500 [21:09<00:00,  2.54s/it]\n",
      "100%|██████████| 500/500 [21:54<00:00,  2.63s/it]\n",
      "100%|██████████| 500/500 [21:49<00:00,  2.62s/it]\n",
      "100%|██████████| 500/500 [19:54<00:00,  2.39s/it]\n",
      "100%|██████████| 500/500 [20:18<00:00,  2.44s/it]\n",
      "100%|██████████| 500/500 [20:02<00:00,  2.40s/it]\n",
      "100%|██████████| 500/500 [19:01<00:00,  2.28s/it]\n",
      "100%|██████████| 500/500 [19:12<00:00,  2.31s/it]\n",
      "100%|██████████| 500/500 [21:23<00:00,  2.57s/it]\n"
     ]
    }
   ],
   "source": [
    "all_products = []\n",
    "\n",
    "for i in (categories):\n",
    "    for j in tqdm(range(1, 501)):\n",
    "        response = requests.get(f'https://www.bol.com/nl/s/?page={j}&searchtext={i}&view=list').content\n",
    "        soup = BeautifulSoup(response, 'lxml')\n",
    "        products = soup.find_all(class_='product-item--row js_item_root')\n",
    "        all_products.extend(products)\n",
    "        time.sleep(2)"
   ]
  },
  {
   "cell_type": "code",
   "execution_count": 5,
   "metadata": {},
   "outputs": [],
   "source": [
    "lst = []\n",
    "\n",
    "for item in all_products:\n",
    "    if item.find(class_='product-prices').getText() == '\\nNiet leverbaar\\n':\n",
    "        price = None\n",
    "    elif item.find(class_='star-rating')['title'] == 'Er zijn nog geen beoordelingen voor dit product.':\n",
    "        score = None\n",
    "    elif item.find(class_='star-rating')['title'] == 'Er zijn  nog geen beoordelingen voor dit product.':\n",
    "        review = None\n",
    "    else:\n",
    "        product = item.find(class_='product-title--inline').a.getText()\n",
    "        price = float(item.meta['content'])\n",
    "        score = item.find(class_='star-rating')['title']\n",
    "        review = item.find(class_='star-rating')['data-count']\n",
    "        lst.append([product, price, score, review])"
   ]
  },
  {
   "cell_type": "code",
   "execution_count": 6,
   "metadata": {},
   "outputs": [
    {
     "output_type": "stream",
     "name": "stdout",
     "text": [
      "[['ASUS Chromebook C523NA-A20209 - Chromebook - 15.6 inch', 259.0, 'klantbeoordeling: 4.4 van de 5 sterren', '67'], ['Lenovo Chromebook Ideapad 3-11IGL05 82BA000RMH - Chromebook - 11.6 Inch', 226.39, 'klantbeoordeling: 4.2 van de 5 sterren', '13'], ['Apple MacBook Air (April, 2020) MWTJ2N/A - 13.3 inch - Intel Core i3 - 256 GB - Spacegrijs', 885.0, 'klantbeoordeling: 4.8 van de 5 sterren', '14'], ['ASUS VivoBook 15 K512JP-BQ281T - Laptop - 15.6 Inch', 829.0, 'klantbeoordeling: 4.5 van de 5 sterren', '22'], ['Lenovo Ideapad L340-15IRH 81LK0150MH - Gaming Laptop - 15.6 Inch', 729.0, 'klantbeoordeling: 4.7 van de 5 sterren', '20'], ['ASUS Chromebook C523NA-EJ0055 - Chromebook - 15.6 Inch', 219.0, 'klantbeoordeling: 4.4 van de 5 sterren', '67'], ['Acer Swift 1 SF114-32-C7C0 - Laptop - 14 Inch', 379.0, 'klantbeoordeling: 4.0 van de 5 sterren', '13'], ['HP 17-by3740nd - Laptop - 17.3 Inch', 749.0, 'klantbeoordeling: 4.7 van de 5 sterren', '10'], ['Asus Chromebook C523NA-EJ0186 - Chromebook - 15.6 Inch', 299.0, 'klantbeoordeling: 4.4 van de 5 sterren', '67'], ['Lenovo Ideapad 3 Chromebook 82C1000YMH - Chromebook - 14 Inch', 249.0, 'klantbeoordeling: 4.6 van de 5 sterren', '21']]\n"
     ]
    }
   ],
   "source": [
    "print(lst[:10])"
   ]
  },
  {
   "cell_type": "code",
   "execution_count": 7,
   "metadata": {},
   "outputs": [],
   "source": [
    "products_downloaded = len(lst)"
   ]
  },
  {
   "cell_type": "code",
   "execution_count": 8,
   "metadata": {},
   "outputs": [],
   "source": [
    "df = pd.DataFrame(lst, columns=['Product', 'Price', 'Score', 'Reviews'])"
   ]
  },
  {
   "cell_type": "code",
   "execution_count": 9,
   "metadata": {},
   "outputs": [
    {
     "output_type": "execute_result",
     "data": {
      "text/plain": [
       "31306"
      ]
     },
     "metadata": {},
     "execution_count": 9
    }
   ],
   "source": [
    "len(df)"
   ]
  },
  {
   "cell_type": "code",
   "execution_count": 10,
   "metadata": {},
   "outputs": [],
   "source": [
    "df['Price'] = df['Price'].dropna()"
   ]
  },
  {
   "cell_type": "code",
   "execution_count": 11,
   "metadata": {},
   "outputs": [
    {
     "output_type": "execute_result",
     "data": {
      "text/plain": [
       "31306"
      ]
     },
     "metadata": {},
     "execution_count": 11
    }
   ],
   "source": [
    "len(df)"
   ]
  },
  {
   "cell_type": "code",
   "execution_count": 12,
   "metadata": {},
   "outputs": [],
   "source": [
    "df = df.drop_duplicates()"
   ]
  },
  {
   "cell_type": "code",
   "execution_count": 13,
   "metadata": {},
   "outputs": [
    {
     "output_type": "execute_result",
     "data": {
      "text/plain": [
       "6783"
      ]
     },
     "metadata": {},
     "execution_count": 13
    }
   ],
   "source": [
    "len(df)"
   ]
  },
  {
   "cell_type": "code",
   "execution_count": 14,
   "metadata": {},
   "outputs": [],
   "source": [
    "df = df.reset_index(drop=True)"
   ]
  },
  {
   "cell_type": "code",
   "execution_count": 15,
   "metadata": {},
   "outputs": [],
   "source": [
    "df['Score'] = df['Score'].str.strip('klantbeoordeling: ')"
   ]
  },
  {
   "cell_type": "code",
   "execution_count": 16,
   "metadata": {},
   "outputs": [],
   "source": [
    "df['Score'] = df['Score'].str[:3]"
   ]
  },
  {
   "cell_type": "code",
   "execution_count": 17,
   "metadata": {},
   "outputs": [],
   "source": [
    "df['Score'] = df['Score'].astype(float)"
   ]
  },
  {
   "cell_type": "code",
   "execution_count": 18,
   "metadata": {},
   "outputs": [],
   "source": [
    "df['Reviews'] = df['Reviews'].astype(int)"
   ]
  },
  {
   "cell_type": "code",
   "execution_count": 19,
   "metadata": {},
   "outputs": [
    {
     "output_type": "execute_result",
     "data": {
      "text/plain": [
       "                                             Product   Price  Score  Reviews\n",
       "0  ASUS Chromebook C523NA-A20209 - Chromebook - 1...  259.00    4.4       67\n",
       "1  Lenovo Chromebook Ideapad 3-11IGL05 82BA000RMH...  226.39    4.2       13\n",
       "2  Apple MacBook Air (April, 2020) MWTJ2N/A - 13....  885.00    4.8       14\n",
       "3  ASUS VivoBook 15 K512JP-BQ281T - Laptop - 15.6...  829.00    4.5       22\n",
       "4  Lenovo Ideapad L340-15IRH 81LK0150MH - Gaming ...  729.00    4.7       20\n",
       "5  ASUS Chromebook C523NA-EJ0055 - Chromebook - 1...  219.00    4.4       67\n",
       "6      Acer Swift 1 SF114-32-C7C0 - Laptop - 14 Inch  379.00    4.0       13\n",
       "7                HP 17-by3740nd - Laptop - 17.3 Inch  749.00    4.7       10\n",
       "8  Asus Chromebook C523NA-EJ0186 - Chromebook - 1...  299.00    4.4       67\n",
       "9  Lenovo Ideapad 3 Chromebook 82C1000YMH - Chrom...  249.00    4.6       21"
      ],
      "text/html": "<div>\n<style scoped>\n    .dataframe tbody tr th:only-of-type {\n        vertical-align: middle;\n    }\n\n    .dataframe tbody tr th {\n        vertical-align: top;\n    }\n\n    .dataframe thead th {\n        text-align: right;\n    }\n</style>\n<table border=\"1\" class=\"dataframe\">\n  <thead>\n    <tr style=\"text-align: right;\">\n      <th></th>\n      <th>Product</th>\n      <th>Price</th>\n      <th>Score</th>\n      <th>Reviews</th>\n    </tr>\n  </thead>\n  <tbody>\n    <tr>\n      <th>0</th>\n      <td>ASUS Chromebook C523NA-A20209 - Chromebook - 1...</td>\n      <td>259.00</td>\n      <td>4.4</td>\n      <td>67</td>\n    </tr>\n    <tr>\n      <th>1</th>\n      <td>Lenovo Chromebook Ideapad 3-11IGL05 82BA000RMH...</td>\n      <td>226.39</td>\n      <td>4.2</td>\n      <td>13</td>\n    </tr>\n    <tr>\n      <th>2</th>\n      <td>Apple MacBook Air (April, 2020) MWTJ2N/A - 13....</td>\n      <td>885.00</td>\n      <td>4.8</td>\n      <td>14</td>\n    </tr>\n    <tr>\n      <th>3</th>\n      <td>ASUS VivoBook 15 K512JP-BQ281T - Laptop - 15.6...</td>\n      <td>829.00</td>\n      <td>4.5</td>\n      <td>22</td>\n    </tr>\n    <tr>\n      <th>4</th>\n      <td>Lenovo Ideapad L340-15IRH 81LK0150MH - Gaming ...</td>\n      <td>729.00</td>\n      <td>4.7</td>\n      <td>20</td>\n    </tr>\n    <tr>\n      <th>5</th>\n      <td>ASUS Chromebook C523NA-EJ0055 - Chromebook - 1...</td>\n      <td>219.00</td>\n      <td>4.4</td>\n      <td>67</td>\n    </tr>\n    <tr>\n      <th>6</th>\n      <td>Acer Swift 1 SF114-32-C7C0 - Laptop - 14 Inch</td>\n      <td>379.00</td>\n      <td>4.0</td>\n      <td>13</td>\n    </tr>\n    <tr>\n      <th>7</th>\n      <td>HP 17-by3740nd - Laptop - 17.3 Inch</td>\n      <td>749.00</td>\n      <td>4.7</td>\n      <td>10</td>\n    </tr>\n    <tr>\n      <th>8</th>\n      <td>Asus Chromebook C523NA-EJ0186 - Chromebook - 1...</td>\n      <td>299.00</td>\n      <td>4.4</td>\n      <td>67</td>\n    </tr>\n    <tr>\n      <th>9</th>\n      <td>Lenovo Ideapad 3 Chromebook 82C1000YMH - Chrom...</td>\n      <td>249.00</td>\n      <td>4.6</td>\n      <td>21</td>\n    </tr>\n  </tbody>\n</table>\n</div>"
     },
     "metadata": {},
     "execution_count": 19
    }
   ],
   "source": [
    "df.head(10)"
   ]
  },
  {
   "cell_type": "code",
   "execution_count": 20,
   "metadata": {},
   "outputs": [
    {
     "output_type": "stream",
     "name": "stdout",
     "text": [
      "<class 'pandas.core.frame.DataFrame'>\nRangeIndex: 6783 entries, 0 to 6782\nData columns (total 4 columns):\n #   Column   Non-Null Count  Dtype  \n---  ------   --------------  -----  \n 0   Product  6783 non-null   object \n 1   Price    6783 non-null   float64\n 2   Score    6783 non-null   float64\n 3   Reviews  6783 non-null   int64  \ndtypes: float64(2), int64(1), object(1)\nmemory usage: 212.1+ KB\n"
     ]
    }
   ],
   "source": [
    "df.info()"
   ]
  },
  {
   "cell_type": "code",
   "execution_count": 21,
   "metadata": {},
   "outputs": [
    {
     "output_type": "stream",
     "name": "stdout",
     "text": [
      "Products Downloaded: 31306 \nDataset Size: 6783\n"
     ]
    }
   ],
   "source": [
    "print('Products Downloaded:', products_downloaded, '\\nDataset Size:', len(df))"
   ]
  },
  {
   "cell_type": "code",
   "execution_count": 22,
   "metadata": {},
   "outputs": [],
   "source": [
    "df.to_csv('../data/processed/bol.csv')"
   ]
  }
 ]
}