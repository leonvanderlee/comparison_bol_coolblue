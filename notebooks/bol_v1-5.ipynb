{
 "metadata": {
  "language_info": {
   "codemirror_mode": {
    "name": "ipython",
    "version": 3
   },
   "file_extension": ".py",
   "mimetype": "text/x-python",
   "name": "python",
   "nbconvert_exporter": "python",
   "pygments_lexer": "ipython3",
   "version": "3.8.3-final"
  },
  "orig_nbformat": 2,
  "kernelspec": {
   "name": "python3",
   "display_name": "Python 3"
  }
 },
 "nbformat": 4,
 "nbformat_minor": 2,
 "cells": [
  {
   "source": [
    "# Bol.com Web Scraping"
   ],
   "cell_type": "markdown",
   "metadata": {}
  },
  {
   "cell_type": "code",
   "execution_count": 1,
   "metadata": {},
   "outputs": [],
   "source": [
    "import pandas as pd\n",
    "import numpy as np\n",
    "\n",
    "import time\n",
    "\n",
    "import requests\n",
    "from bs4 import BeautifulSoup"
   ]
  },
  {
   "cell_type": "code",
   "execution_count": 2,
   "metadata": {},
   "outputs": [],
   "source": [
    "all_products = []\n",
    "\n",
    "for i in range(1, 100):\n",
    "    response = requests.get(f'https://www.bol.com/nl/s/?page={i}&searchtext=computer&view=list')\n",
    "    soup = BeautifulSoup(response.content, 'html.parser')\n",
    "    products = soup.find_all(class_='product-item--row js_item_root')\n",
    "    all_products.extend(products)\n",
    "    time.sleep(10)"
   ]
  },
  {
   "cell_type": "code",
   "execution_count": 3,
   "metadata": {},
   "outputs": [],
   "source": [
    "lst = []\n",
    "\n",
    "for item in all_products:\n",
    "    if item.find(class_='product-prices').getText() == '\\nNiet leverbaar\\n':\n",
    "        price = None\n",
    "    else:\n",
    "        price = float(item.meta['content'])\n",
    "        product = item.find(class_='product-title--inline').a.getText()\n",
    "        lst.append([product, price])"
   ]
  },
  {
   "cell_type": "code",
   "execution_count": 4,
   "metadata": {},
   "outputs": [
    {
     "output_type": "stream",
     "name": "stdout",
     "text": [
      "[['Trust Chat Headset', 9.99], ['Sennheiser PC 3 Chat - On-ear headset - Zwart', 27.95], ['Sennheiser PC 2 - On-ear headset - Zwart', 18.95], ['Jabra Evolve 40 MS Stereo Headset Hoofdband Zwart', 91.95], ['Logitech LGT-H110', 27.0], ['Microsoft LX-3000 LifeChat - Headset - Zwart', 36.95], ['Logitech 960 - Pc Stereo Headset', 42.95], ['QY Stereo headset, Koptelefoon met microfoon voor PC, Laptop, Gaming, Skype, PS4', 26.95], ['Jabra Evolve 65 MS Stereo', 142.95], ['Office Headset met Microfoon Stereo | Verstelbare Kantoor Headset Microfoon | Koptelefoon met Microfoon voor PC Bedraad | headset met microfoon voor pc | headset met microfoon voor laptop | headset bedraad microfoon', 23.95]]\n"
     ]
    }
   ],
   "source": [
    "print(lst[:10])"
   ]
  },
  {
   "cell_type": "code",
   "execution_count": 5,
   "metadata": {},
   "outputs": [
    {
     "output_type": "execute_result",
     "data": {
      "text/plain": [
       "2038"
      ]
     },
     "metadata": {},
     "execution_count": 5
    }
   ],
   "source": [
    "len(lst)"
   ]
  },
  {
   "cell_type": "code",
   "execution_count": 6,
   "metadata": {},
   "outputs": [],
   "source": [
    "df = pd.DataFrame(lst, columns=['Product', 'Price'])"
   ]
  },
  {
   "cell_type": "code",
   "execution_count": 7,
   "metadata": {},
   "outputs": [],
   "source": [
    "df = df.dropna()"
   ]
  },
  {
   "cell_type": "code",
   "execution_count": 8,
   "metadata": {},
   "outputs": [],
   "source": [
    "df = df.reset_index(drop=True)"
   ]
  },
  {
   "cell_type": "code",
   "execution_count": 9,
   "metadata": {},
   "outputs": [
    {
     "output_type": "execute_result",
     "data": {
      "text/plain": [
       "                                             Product   Price\n",
       "0                                 Trust Chat Headset    9.99\n",
       "1      Sennheiser PC 3 Chat - On-ear headset - Zwart   27.95\n",
       "2           Sennheiser PC 2 - On-ear headset - Zwart   18.95\n",
       "3  Jabra Evolve 40 MS Stereo Headset Hoofdband Zwart   91.95\n",
       "4                                  Logitech LGT-H110   27.00\n",
       "5       Microsoft LX-3000 LifeChat - Headset - Zwart   36.95\n",
       "6                   Logitech 960 - Pc Stereo Headset   42.95\n",
       "7  QY Stereo headset, Koptelefoon met microfoon v...   26.95\n",
       "8                          Jabra Evolve 65 MS Stereo  142.95\n",
       "9  Office Headset met Microfoon Stereo | Verstelb...   23.95"
      ],
      "text/html": "<div>\n<style scoped>\n    .dataframe tbody tr th:only-of-type {\n        vertical-align: middle;\n    }\n\n    .dataframe tbody tr th {\n        vertical-align: top;\n    }\n\n    .dataframe thead th {\n        text-align: right;\n    }\n</style>\n<table border=\"1\" class=\"dataframe\">\n  <thead>\n    <tr style=\"text-align: right;\">\n      <th></th>\n      <th>Product</th>\n      <th>Price</th>\n    </tr>\n  </thead>\n  <tbody>\n    <tr>\n      <th>0</th>\n      <td>Trust Chat Headset</td>\n      <td>9.99</td>\n    </tr>\n    <tr>\n      <th>1</th>\n      <td>Sennheiser PC 3 Chat - On-ear headset - Zwart</td>\n      <td>27.95</td>\n    </tr>\n    <tr>\n      <th>2</th>\n      <td>Sennheiser PC 2 - On-ear headset - Zwart</td>\n      <td>18.95</td>\n    </tr>\n    <tr>\n      <th>3</th>\n      <td>Jabra Evolve 40 MS Stereo Headset Hoofdband Zwart</td>\n      <td>91.95</td>\n    </tr>\n    <tr>\n      <th>4</th>\n      <td>Logitech LGT-H110</td>\n      <td>27.00</td>\n    </tr>\n    <tr>\n      <th>5</th>\n      <td>Microsoft LX-3000 LifeChat - Headset - Zwart</td>\n      <td>36.95</td>\n    </tr>\n    <tr>\n      <th>6</th>\n      <td>Logitech 960 - Pc Stereo Headset</td>\n      <td>42.95</td>\n    </tr>\n    <tr>\n      <th>7</th>\n      <td>QY Stereo headset, Koptelefoon met microfoon v...</td>\n      <td>26.95</td>\n    </tr>\n    <tr>\n      <th>8</th>\n      <td>Jabra Evolve 65 MS Stereo</td>\n      <td>142.95</td>\n    </tr>\n    <tr>\n      <th>9</th>\n      <td>Office Headset met Microfoon Stereo | Verstelb...</td>\n      <td>23.95</td>\n    </tr>\n  </tbody>\n</table>\n</div>"
     },
     "metadata": {},
     "execution_count": 9
    }
   ],
   "source": [
    "df.head(10)"
   ]
  },
  {
   "cell_type": "code",
   "execution_count": 10,
   "metadata": {},
   "outputs": [
    {
     "output_type": "stream",
     "name": "stdout",
     "text": [
      "<class 'pandas.core.frame.DataFrame'>\nRangeIndex: 2038 entries, 0 to 2037\nData columns (total 2 columns):\n #   Column   Non-Null Count  Dtype  \n---  ------   --------------  -----  \n 0   Product  2038 non-null   object \n 1   Price    2038 non-null   float64\ndtypes: float64(1), object(1)\nmemory usage: 32.0+ KB\n"
     ]
    }
   ],
   "source": [
    "df.info()"
   ]
  },
  {
   "cell_type": "code",
   "execution_count": 11,
   "metadata": {},
   "outputs": [],
   "source": [
    "df.to_csv('../data/processed/bol.csv')"
   ]
  }
 ]
}